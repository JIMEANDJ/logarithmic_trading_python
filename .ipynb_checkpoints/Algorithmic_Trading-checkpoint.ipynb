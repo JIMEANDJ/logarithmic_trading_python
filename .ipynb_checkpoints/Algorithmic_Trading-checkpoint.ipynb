{
 "cells": [
  {
   "cell_type": "code",
   "execution_count": 1,
   "id": "72ac168e-7892-4fd4-909b-358bd66de7f7",
   "metadata": {},
   "outputs": [
    {
     "name": "stdout",
     "output_type": "stream",
     "text": [
      "Requirement already satisfied: yfinance in c:\\users\\andre\\anaconda3\\lib\\site-packages (0.2.40)Note: you may need to restart the kernel to use updated packages.\n",
      "\n",
      "Requirement already satisfied: pandas>=1.3.0 in c:\\users\\andre\\anaconda3\\lib\\site-packages (from yfinance) (2.1.4)\n",
      "Requirement already satisfied: numpy>=1.16.5 in c:\\users\\andre\\anaconda3\\lib\\site-packages (from yfinance) (1.26.4)\n",
      "Requirement already satisfied: requests>=2.31 in c:\\users\\andre\\anaconda3\\lib\\site-packages (from yfinance) (2.31.0)\n",
      "Requirement already satisfied: multitasking>=0.0.7 in c:\\users\\andre\\anaconda3\\lib\\site-packages (from yfinance) (0.0.11)\n",
      "Requirement already satisfied: lxml>=4.9.1 in c:\\users\\andre\\anaconda3\\lib\\site-packages (from yfinance) (4.9.3)\n",
      "Requirement already satisfied: platformdirs>=2.0.0 in c:\\users\\andre\\appdata\\roaming\\python\\python311\\site-packages (from yfinance) (4.2.2)\n",
      "Requirement already satisfied: pytz>=2022.5 in c:\\users\\andre\\anaconda3\\lib\\site-packages (from yfinance) (2023.3.post1)\n",
      "Requirement already satisfied: frozendict>=2.3.4 in c:\\users\\andre\\anaconda3\\lib\\site-packages (from yfinance) (2.4.4)\n",
      "Requirement already satisfied: peewee>=3.16.2 in c:\\users\\andre\\anaconda3\\lib\\site-packages (from yfinance) (3.17.5)\n",
      "Requirement already satisfied: beautifulsoup4>=4.11.1 in c:\\users\\andre\\anaconda3\\lib\\site-packages (from yfinance) (4.12.2)\n",
      "Requirement already satisfied: html5lib>=1.1 in c:\\users\\andre\\anaconda3\\lib\\site-packages (from yfinance) (1.1)\n",
      "Requirement already satisfied: soupsieve>1.2 in c:\\users\\andre\\anaconda3\\lib\\site-packages (from beautifulsoup4>=4.11.1->yfinance) (2.5)\n",
      "Requirement already satisfied: six>=1.9 in c:\\users\\andre\\appdata\\roaming\\python\\python311\\site-packages (from html5lib>=1.1->yfinance) (1.16.0)\n",
      "Requirement already satisfied: webencodings in c:\\users\\andre\\anaconda3\\lib\\site-packages (from html5lib>=1.1->yfinance) (0.5.1)\n",
      "Requirement already satisfied: python-dateutil>=2.8.2 in c:\\users\\andre\\appdata\\roaming\\python\\python311\\site-packages (from pandas>=1.3.0->yfinance) (2.9.0.post0)\n",
      "Requirement already satisfied: tzdata>=2022.1 in c:\\users\\andre\\anaconda3\\lib\\site-packages (from pandas>=1.3.0->yfinance) (2023.3)\n",
      "Requirement already satisfied: charset-normalizer<4,>=2 in c:\\users\\andre\\anaconda3\\lib\\site-packages (from requests>=2.31->yfinance) (2.0.4)\n",
      "Requirement already satisfied: idna<4,>=2.5 in c:\\users\\andre\\anaconda3\\lib\\site-packages (from requests>=2.31->yfinance) (3.4)\n",
      "Requirement already satisfied: urllib3<3,>=1.21.1 in c:\\users\\andre\\anaconda3\\lib\\site-packages (from requests>=2.31->yfinance) (2.0.7)\n",
      "Requirement already satisfied: certifi>=2017.4.17 in c:\\users\\andre\\anaconda3\\lib\\site-packages (from requests>=2.31->yfinance) (2024.2.2)\n"
     ]
    }
   ],
   "source": [
    "pip install yfinance"
   ]
  },
  {
   "cell_type": "code",
   "execution_count": 15,
   "id": "167e6534-9857-486e-a9d2-65efb27ba5e2",
   "metadata": {},
   "outputs": [
    {
     "name": "stdout",
     "output_type": "stream",
     "text": [
      "Requirement already satisfied: pandas in c:\\users\\andre\\anaconda3\\lib\\site-packages (2.1.4)\n",
      "Requirement already satisfied: numpy<2,>=1.23.2 in c:\\users\\andre\\anaconda3\\lib\\site-packages (from pandas) (1.26.4)\n",
      "Requirement already satisfied: python-dateutil>=2.8.2 in c:\\users\\andre\\appdata\\roaming\\python\\python311\\site-packages (from pandas) (2.9.0.post0)\n",
      "Requirement already satisfied: pytz>=2020.1 in c:\\users\\andre\\anaconda3\\lib\\site-packages (from pandas) (2023.3.post1)\n",
      "Requirement already satisfied: tzdata>=2022.1 in c:\\users\\andre\\anaconda3\\lib\\site-packages (from pandas) (2023.3)\n",
      "Requirement already satisfied: six>=1.5 in c:\\users\\andre\\appdata\\roaming\\python\\python311\\site-packages (from python-dateutil>=2.8.2->pandas) (1.16.0)\n",
      "Note: you may need to restart the kernel to use updated packages.\n"
     ]
    }
   ],
   "source": [
    "pip install pandas"
   ]
  },
  {
   "cell_type": "code",
   "execution_count": 9,
   "id": "972b9217-cd29-4157-865a-be8be360f7fd",
   "metadata": {},
   "outputs": [
    {
     "name": "stdout",
     "output_type": "stream",
     "text": [
      "Requirement already satisfied: plotly in c:\\users\\andre\\anaconda3\\lib\\site-packages (5.9.0)\n",
      "Requirement already satisfied: tenacity>=6.2.0 in c:\\users\\andre\\anaconda3\\lib\\site-packages (from plotly) (8.2.2)\n",
      "Note: you may need to restart the kernel to use updated packages.\n"
     ]
    }
   ],
   "source": [
    "pip install plotly"
   ]
  },
  {
   "cell_type": "code",
   "execution_count": 27,
   "id": "b5ce672f-01ea-4c70-9aa8-d5453cfe4adf",
   "metadata": {},
   "outputs": [
    {
     "name": "stdout",
     "output_type": "stream",
     "text": [
      "Collecting pandas_ta\n",
      "  Downloading pandas_ta-0.3.14b.tar.gz (115 kB)\n",
      "     ---------------------------------------- 0.0/115.1 kB ? eta -:--:--\n",
      "     ------ ------------------------------ 20.5/115.1 kB 682.7 kB/s eta 0:00:01\n",
      "     ------------------- ----------------- 61.4/115.1 kB 825.8 kB/s eta 0:00:01\n",
      "     ------------------------------------ 115.1/115.1 kB 961.9 kB/s eta 0:00:00\n",
      "  Preparing metadata (setup.py): started\n",
      "  Preparing metadata (setup.py): finished with status 'done'\n",
      "Requirement already satisfied: plotly in c:\\users\\andre\\anaconda3\\lib\\site-packages (5.9.0)\n",
      "Requirement already satisfied: yfinance in c:\\users\\andre\\anaconda3\\lib\\site-packages (0.2.40)\n",
      "Requirement already satisfied: pandas in c:\\users\\andre\\anaconda3\\lib\\site-packages (from pandas_ta) (2.1.4)\n",
      "Requirement already satisfied: tenacity>=6.2.0 in c:\\users\\andre\\anaconda3\\lib\\site-packages (from plotly) (8.2.2)\n",
      "Requirement already satisfied: numpy>=1.16.5 in c:\\users\\andre\\anaconda3\\lib\\site-packages (from yfinance) (1.26.4)\n",
      "Requirement already satisfied: requests>=2.31 in c:\\users\\andre\\anaconda3\\lib\\site-packages (from yfinance) (2.31.0)\n",
      "Requirement already satisfied: multitasking>=0.0.7 in c:\\users\\andre\\anaconda3\\lib\\site-packages (from yfinance) (0.0.11)\n",
      "Requirement already satisfied: lxml>=4.9.1 in c:\\users\\andre\\anaconda3\\lib\\site-packages (from yfinance) (4.9.3)\n",
      "Requirement already satisfied: platformdirs>=2.0.0 in c:\\users\\andre\\appdata\\roaming\\python\\python311\\site-packages (from yfinance) (4.2.2)\n",
      "Requirement already satisfied: pytz>=2022.5 in c:\\users\\andre\\anaconda3\\lib\\site-packages (from yfinance) (2023.3.post1)\n",
      "Requirement already satisfied: frozendict>=2.3.4 in c:\\users\\andre\\anaconda3\\lib\\site-packages (from yfinance) (2.4.4)\n",
      "Requirement already satisfied: peewee>=3.16.2 in c:\\users\\andre\\anaconda3\\lib\\site-packages (from yfinance) (3.17.5)\n",
      "Requirement already satisfied: beautifulsoup4>=4.11.1 in c:\\users\\andre\\anaconda3\\lib\\site-packages (from yfinance) (4.12.2)\n",
      "Requirement already satisfied: html5lib>=1.1 in c:\\users\\andre\\anaconda3\\lib\\site-packages (from yfinance) (1.1)\n",
      "Requirement already satisfied: soupsieve>1.2 in c:\\users\\andre\\anaconda3\\lib\\site-packages (from beautifulsoup4>=4.11.1->yfinance) (2.5)\n",
      "Requirement already satisfied: six>=1.9 in c:\\users\\andre\\appdata\\roaming\\python\\python311\\site-packages (from html5lib>=1.1->yfinance) (1.16.0)\n",
      "Requirement already satisfied: webencodings in c:\\users\\andre\\anaconda3\\lib\\site-packages (from html5lib>=1.1->yfinance) (0.5.1)\n",
      "Requirement already satisfied: python-dateutil>=2.8.2 in c:\\users\\andre\\appdata\\roaming\\python\\python311\\site-packages (from pandas->pandas_ta) (2.9.0.post0)\n",
      "Requirement already satisfied: tzdata>=2022.1 in c:\\users\\andre\\anaconda3\\lib\\site-packages (from pandas->pandas_ta) (2023.3)\n",
      "Requirement already satisfied: charset-normalizer<4,>=2 in c:\\users\\andre\\anaconda3\\lib\\site-packages (from requests>=2.31->yfinance) (2.0.4)\n",
      "Requirement already satisfied: idna<4,>=2.5 in c:\\users\\andre\\anaconda3\\lib\\site-packages (from requests>=2.31->yfinance) (3.4)\n",
      "Requirement already satisfied: urllib3<3,>=1.21.1 in c:\\users\\andre\\anaconda3\\lib\\site-packages (from requests>=2.31->yfinance) (2.0.7)\n",
      "Requirement already satisfied: certifi>=2017.4.17 in c:\\users\\andre\\anaconda3\\lib\\site-packages (from requests>=2.31->yfinance) (2024.2.2)\n",
      "Building wheels for collected packages: pandas_ta\n",
      "  Building wheel for pandas_ta (setup.py): started\n",
      "  Building wheel for pandas_ta (setup.py): finished with status 'done'\n",
      "  Created wheel for pandas_ta: filename=pandas_ta-0.3.14b0-py3-none-any.whl size=218924 sha256=f73b5503c945f6c1059db969f3dfd4e2ca751899cc1cf1658eb0f92113786aa9\n",
      "  Stored in directory: c:\\users\\andre\\appdata\\local\\pip\\cache\\wheels\\7f\\33\\8b\\50b245c5c65433cd8f5cb24ac15d97e5a3db2d41a8b6ae957d\n",
      "Successfully built pandas_ta\n",
      "Installing collected packages: pandas_ta\n",
      "Successfully installed pandas_ta-0.3.14b0\n",
      "Note: you may need to restart the kernel to use updated packages.\n"
     ]
    }
   ],
   "source": [
    "pip install pandas_ta plotly yfinance"
   ]
  },
  {
   "cell_type": "code",
   "execution_count": 8,
   "id": "45b90c1f-f0a2-488d-969c-85f8732b016c",
   "metadata": {},
   "outputs": [],
   "source": [
    "import yfinance as yf\n",
    "\n",
    "# Definir el símbolo del activo\n",
    "simbolo_activo = \"NVDA\"\n",
    "\n",
    "# Crear el objeto 'activo' utilizando el símbolo del activo\n",
    "activo = yf.Ticker(simbolo_activo) \n",
    "\n",
    "#descargar data historica\n",
    "\n",
    "# data_historica = activo.history(start = \"2022-01-01\", end =\"2024-06-06\", interval = \"1D\")\n",
    "data_historica = activo.history(period = \"1mo\", interval =\"1h\")\n",
    "\n"
   ]
  },
  {
   "cell_type": "code",
   "execution_count": 9,
   "id": "dff4e249-9280-4afe-8dbf-07244bcd5f37",
   "metadata": {},
   "outputs": [
    {
     "data": {
      "text/html": [
       "<div>\n",
       "<style scoped>\n",
       "    .dataframe tbody tr th:only-of-type {\n",
       "        vertical-align: middle;\n",
       "    }\n",
       "\n",
       "    .dataframe tbody tr th {\n",
       "        vertical-align: top;\n",
       "    }\n",
       "\n",
       "    .dataframe thead th {\n",
       "        text-align: right;\n",
       "    }\n",
       "</style>\n",
       "<table border=\"1\" class=\"dataframe\">\n",
       "  <thead>\n",
       "    <tr style=\"text-align: right;\">\n",
       "      <th></th>\n",
       "      <th>Open</th>\n",
       "      <th>High</th>\n",
       "      <th>Low</th>\n",
       "      <th>Close</th>\n",
       "      <th>Volume</th>\n",
       "      <th>Dividends</th>\n",
       "      <th>Stock Splits</th>\n",
       "    </tr>\n",
       "    <tr>\n",
       "      <th>Datetime</th>\n",
       "      <th></th>\n",
       "      <th></th>\n",
       "      <th></th>\n",
       "      <th></th>\n",
       "      <th></th>\n",
       "      <th></th>\n",
       "      <th></th>\n",
       "    </tr>\n",
       "  </thead>\n",
       "  <tbody>\n",
       "    <tr>\n",
       "      <th>2024-05-21 09:30:00-04:00</th>\n",
       "      <td>93.598999</td>\n",
       "      <td>94.322899</td>\n",
       "      <td>93.180000</td>\n",
       "      <td>94.057144</td>\n",
       "      <td>10670317</td>\n",
       "      <td>0.0</td>\n",
       "      <td>0.0</td>\n",
       "    </tr>\n",
       "    <tr>\n",
       "      <th>2024-05-21 10:30:00-04:00</th>\n",
       "      <td>94.078003</td>\n",
       "      <td>94.985001</td>\n",
       "      <td>94.050003</td>\n",
       "      <td>94.859001</td>\n",
       "      <td>5294755</td>\n",
       "      <td>0.0</td>\n",
       "      <td>0.0</td>\n",
       "    </tr>\n",
       "    <tr>\n",
       "      <th>2024-05-21 11:30:00-04:00</th>\n",
       "      <td>94.871002</td>\n",
       "      <td>95.287003</td>\n",
       "      <td>94.592010</td>\n",
       "      <td>95.157249</td>\n",
       "      <td>3443525</td>\n",
       "      <td>0.0</td>\n",
       "      <td>0.0</td>\n",
       "    </tr>\n",
       "    <tr>\n",
       "      <th>2024-05-21 12:30:00-04:00</th>\n",
       "      <td>95.155998</td>\n",
       "      <td>95.196754</td>\n",
       "      <td>94.568001</td>\n",
       "      <td>94.856003</td>\n",
       "      <td>2697859</td>\n",
       "      <td>0.0</td>\n",
       "      <td>0.0</td>\n",
       "    </tr>\n",
       "    <tr>\n",
       "      <th>2024-05-21 13:30:00-04:00</th>\n",
       "      <td>94.865005</td>\n",
       "      <td>95.049103</td>\n",
       "      <td>94.779999</td>\n",
       "      <td>94.791008</td>\n",
       "      <td>2038795</td>\n",
       "      <td>0.0</td>\n",
       "      <td>0.0</td>\n",
       "    </tr>\n",
       "    <tr>\n",
       "      <th>...</th>\n",
       "      <td>...</td>\n",
       "      <td>...</td>\n",
       "      <td>...</td>\n",
       "      <td>...</td>\n",
       "      <td>...</td>\n",
       "      <td>...</td>\n",
       "      <td>...</td>\n",
       "    </tr>\n",
       "    <tr>\n",
       "      <th>2024-06-20 11:30:00-04:00</th>\n",
       "      <td>138.985992</td>\n",
       "      <td>139.000000</td>\n",
       "      <td>134.070007</td>\n",
       "      <td>134.145004</td>\n",
       "      <td>58924575</td>\n",
       "      <td>0.0</td>\n",
       "      <td>0.0</td>\n",
       "    </tr>\n",
       "    <tr>\n",
       "      <th>2024-06-20 12:30:00-04:00</th>\n",
       "      <td>134.139999</td>\n",
       "      <td>134.570007</td>\n",
       "      <td>130.550003</td>\n",
       "      <td>131.240005</td>\n",
       "      <td>76306044</td>\n",
       "      <td>0.0</td>\n",
       "      <td>0.0</td>\n",
       "    </tr>\n",
       "    <tr>\n",
       "      <th>2024-06-20 13:30:00-04:00</th>\n",
       "      <td>131.243607</td>\n",
       "      <td>133.300003</td>\n",
       "      <td>129.529999</td>\n",
       "      <td>133.110306</td>\n",
       "      <td>63217513</td>\n",
       "      <td>0.0</td>\n",
       "      <td>0.0</td>\n",
       "    </tr>\n",
       "    <tr>\n",
       "      <th>2024-06-20 14:30:00-04:00</th>\n",
       "      <td>133.110001</td>\n",
       "      <td>133.289993</td>\n",
       "      <td>129.830002</td>\n",
       "      <td>131.298401</td>\n",
       "      <td>44957208</td>\n",
       "      <td>0.0</td>\n",
       "      <td>0.0</td>\n",
       "    </tr>\n",
       "    <tr>\n",
       "      <th>2024-06-20 15:30:00-04:00</th>\n",
       "      <td>131.299896</td>\n",
       "      <td>132.509995</td>\n",
       "      <td>130.600006</td>\n",
       "      <td>130.779999</td>\n",
       "      <td>35806912</td>\n",
       "      <td>0.0</td>\n",
       "      <td>0.0</td>\n",
       "    </tr>\n",
       "  </tbody>\n",
       "</table>\n",
       "<p>147 rows × 7 columns</p>\n",
       "</div>"
      ],
      "text/plain": [
       "                                 Open        High         Low       Close  \\\n",
       "Datetime                                                                    \n",
       "2024-05-21 09:30:00-04:00   93.598999   94.322899   93.180000   94.057144   \n",
       "2024-05-21 10:30:00-04:00   94.078003   94.985001   94.050003   94.859001   \n",
       "2024-05-21 11:30:00-04:00   94.871002   95.287003   94.592010   95.157249   \n",
       "2024-05-21 12:30:00-04:00   95.155998   95.196754   94.568001   94.856003   \n",
       "2024-05-21 13:30:00-04:00   94.865005   95.049103   94.779999   94.791008   \n",
       "...                               ...         ...         ...         ...   \n",
       "2024-06-20 11:30:00-04:00  138.985992  139.000000  134.070007  134.145004   \n",
       "2024-06-20 12:30:00-04:00  134.139999  134.570007  130.550003  131.240005   \n",
       "2024-06-20 13:30:00-04:00  131.243607  133.300003  129.529999  133.110306   \n",
       "2024-06-20 14:30:00-04:00  133.110001  133.289993  129.830002  131.298401   \n",
       "2024-06-20 15:30:00-04:00  131.299896  132.509995  130.600006  130.779999   \n",
       "\n",
       "                             Volume  Dividends  Stock Splits  \n",
       "Datetime                                                      \n",
       "2024-05-21 09:30:00-04:00  10670317        0.0           0.0  \n",
       "2024-05-21 10:30:00-04:00   5294755        0.0           0.0  \n",
       "2024-05-21 11:30:00-04:00   3443525        0.0           0.0  \n",
       "2024-05-21 12:30:00-04:00   2697859        0.0           0.0  \n",
       "2024-05-21 13:30:00-04:00   2038795        0.0           0.0  \n",
       "...                             ...        ...           ...  \n",
       "2024-06-20 11:30:00-04:00  58924575        0.0           0.0  \n",
       "2024-06-20 12:30:00-04:00  76306044        0.0           0.0  \n",
       "2024-06-20 13:30:00-04:00  63217513        0.0           0.0  \n",
       "2024-06-20 14:30:00-04:00  44957208        0.0           0.0  \n",
       "2024-06-20 15:30:00-04:00  35806912        0.0           0.0  \n",
       "\n",
       "[147 rows x 7 columns]"
      ]
     },
     "execution_count": 9,
     "metadata": {},
     "output_type": "execute_result"
    }
   ],
   "source": [
    "data_historica"
   ]
  },
  {
   "cell_type": "code",
   "execution_count": 10,
   "id": "e7235cee-e6ac-451e-9bb7-6726998ba792",
   "metadata": {},
   "outputs": [],
   "source": [
    "data_historica.to_csv(\"data_historica_nvda.csv\")"
   ]
  },
  {
   "cell_type": "code",
   "execution_count": 4,
   "id": "d3b437e6-1a26-45e6-ae32-f2076b8a5a2b",
   "metadata": {},
   "outputs": [],
   "source": [
    "import pandas as pd \n",
    "df = pd.read_csv(\"data_historica_nvda.csv\")"
   ]
  },
  {
   "cell_type": "code",
   "execution_count": 5,
   "id": "96ea97c5-b126-48aa-b240-cf71731fef4c",
   "metadata": {},
   "outputs": [
    {
     "data": {
      "text/html": [
       "<div>\n",
       "<style scoped>\n",
       "    .dataframe tbody tr th:only-of-type {\n",
       "        vertical-align: middle;\n",
       "    }\n",
       "\n",
       "    .dataframe tbody tr th {\n",
       "        vertical-align: top;\n",
       "    }\n",
       "\n",
       "    .dataframe thead th {\n",
       "        text-align: right;\n",
       "    }\n",
       "</style>\n",
       "<table border=\"1\" class=\"dataframe\">\n",
       "  <thead>\n",
       "    <tr style=\"text-align: right;\">\n",
       "      <th></th>\n",
       "      <th>Datetime</th>\n",
       "      <th>Open</th>\n",
       "      <th>High</th>\n",
       "      <th>Low</th>\n",
       "      <th>Close</th>\n",
       "      <th>Volume</th>\n",
       "      <th>Dividends</th>\n",
       "      <th>Stock Splits</th>\n",
       "    </tr>\n",
       "  </thead>\n",
       "  <tbody>\n",
       "    <tr>\n",
       "      <th>0</th>\n",
       "      <td>2024-05-21 09:30:00-04:00</td>\n",
       "      <td>93.598999</td>\n",
       "      <td>94.322899</td>\n",
       "      <td>93.180000</td>\n",
       "      <td>94.057144</td>\n",
       "      <td>10670317</td>\n",
       "      <td>0.0</td>\n",
       "      <td>0.0</td>\n",
       "    </tr>\n",
       "    <tr>\n",
       "      <th>1</th>\n",
       "      <td>2024-05-21 10:30:00-04:00</td>\n",
       "      <td>94.078003</td>\n",
       "      <td>94.985001</td>\n",
       "      <td>94.050003</td>\n",
       "      <td>94.859001</td>\n",
       "      <td>5294755</td>\n",
       "      <td>0.0</td>\n",
       "      <td>0.0</td>\n",
       "    </tr>\n",
       "    <tr>\n",
       "      <th>2</th>\n",
       "      <td>2024-05-21 11:30:00-04:00</td>\n",
       "      <td>94.871002</td>\n",
       "      <td>95.287003</td>\n",
       "      <td>94.592010</td>\n",
       "      <td>95.157249</td>\n",
       "      <td>3443525</td>\n",
       "      <td>0.0</td>\n",
       "      <td>0.0</td>\n",
       "    </tr>\n",
       "    <tr>\n",
       "      <th>3</th>\n",
       "      <td>2024-05-21 12:30:00-04:00</td>\n",
       "      <td>95.155998</td>\n",
       "      <td>95.196754</td>\n",
       "      <td>94.568001</td>\n",
       "      <td>94.856003</td>\n",
       "      <td>2697859</td>\n",
       "      <td>0.0</td>\n",
       "      <td>0.0</td>\n",
       "    </tr>\n",
       "    <tr>\n",
       "      <th>4</th>\n",
       "      <td>2024-05-21 13:30:00-04:00</td>\n",
       "      <td>94.865005</td>\n",
       "      <td>95.049103</td>\n",
       "      <td>94.779999</td>\n",
       "      <td>94.791008</td>\n",
       "      <td>2038795</td>\n",
       "      <td>0.0</td>\n",
       "      <td>0.0</td>\n",
       "    </tr>\n",
       "    <tr>\n",
       "      <th>...</th>\n",
       "      <td>...</td>\n",
       "      <td>...</td>\n",
       "      <td>...</td>\n",
       "      <td>...</td>\n",
       "      <td>...</td>\n",
       "      <td>...</td>\n",
       "      <td>...</td>\n",
       "      <td>...</td>\n",
       "    </tr>\n",
       "    <tr>\n",
       "      <th>142</th>\n",
       "      <td>2024-06-20 11:30:00-04:00</td>\n",
       "      <td>138.985992</td>\n",
       "      <td>139.000000</td>\n",
       "      <td>134.070007</td>\n",
       "      <td>134.145004</td>\n",
       "      <td>58924575</td>\n",
       "      <td>0.0</td>\n",
       "      <td>0.0</td>\n",
       "    </tr>\n",
       "    <tr>\n",
       "      <th>143</th>\n",
       "      <td>2024-06-20 12:30:00-04:00</td>\n",
       "      <td>134.139999</td>\n",
       "      <td>134.570007</td>\n",
       "      <td>130.550003</td>\n",
       "      <td>131.240005</td>\n",
       "      <td>76306044</td>\n",
       "      <td>0.0</td>\n",
       "      <td>0.0</td>\n",
       "    </tr>\n",
       "    <tr>\n",
       "      <th>144</th>\n",
       "      <td>2024-06-20 13:30:00-04:00</td>\n",
       "      <td>131.243607</td>\n",
       "      <td>133.300003</td>\n",
       "      <td>129.529999</td>\n",
       "      <td>133.110306</td>\n",
       "      <td>63217513</td>\n",
       "      <td>0.0</td>\n",
       "      <td>0.0</td>\n",
       "    </tr>\n",
       "    <tr>\n",
       "      <th>145</th>\n",
       "      <td>2024-06-20 14:30:00-04:00</td>\n",
       "      <td>133.110001</td>\n",
       "      <td>133.289993</td>\n",
       "      <td>129.830002</td>\n",
       "      <td>131.298401</td>\n",
       "      <td>44957208</td>\n",
       "      <td>0.0</td>\n",
       "      <td>0.0</td>\n",
       "    </tr>\n",
       "    <tr>\n",
       "      <th>146</th>\n",
       "      <td>2024-06-20 15:30:00-04:00</td>\n",
       "      <td>131.299896</td>\n",
       "      <td>132.509995</td>\n",
       "      <td>130.600006</td>\n",
       "      <td>130.779999</td>\n",
       "      <td>35806912</td>\n",
       "      <td>0.0</td>\n",
       "      <td>0.0</td>\n",
       "    </tr>\n",
       "  </tbody>\n",
       "</table>\n",
       "<p>147 rows × 8 columns</p>\n",
       "</div>"
      ],
      "text/plain": [
       "                      Datetime        Open        High         Low  \\\n",
       "0    2024-05-21 09:30:00-04:00   93.598999   94.322899   93.180000   \n",
       "1    2024-05-21 10:30:00-04:00   94.078003   94.985001   94.050003   \n",
       "2    2024-05-21 11:30:00-04:00   94.871002   95.287003   94.592010   \n",
       "3    2024-05-21 12:30:00-04:00   95.155998   95.196754   94.568001   \n",
       "4    2024-05-21 13:30:00-04:00   94.865005   95.049103   94.779999   \n",
       "..                         ...         ...         ...         ...   \n",
       "142  2024-06-20 11:30:00-04:00  138.985992  139.000000  134.070007   \n",
       "143  2024-06-20 12:30:00-04:00  134.139999  134.570007  130.550003   \n",
       "144  2024-06-20 13:30:00-04:00  131.243607  133.300003  129.529999   \n",
       "145  2024-06-20 14:30:00-04:00  133.110001  133.289993  129.830002   \n",
       "146  2024-06-20 15:30:00-04:00  131.299896  132.509995  130.600006   \n",
       "\n",
       "          Close    Volume  Dividends  Stock Splits  \n",
       "0     94.057144  10670317        0.0           0.0  \n",
       "1     94.859001   5294755        0.0           0.0  \n",
       "2     95.157249   3443525        0.0           0.0  \n",
       "3     94.856003   2697859        0.0           0.0  \n",
       "4     94.791008   2038795        0.0           0.0  \n",
       "..          ...       ...        ...           ...  \n",
       "142  134.145004  58924575        0.0           0.0  \n",
       "143  131.240005  76306044        0.0           0.0  \n",
       "144  133.110306  63217513        0.0           0.0  \n",
       "145  131.298401  44957208        0.0           0.0  \n",
       "146  130.779999  35806912        0.0           0.0  \n",
       "\n",
       "[147 rows x 8 columns]"
      ]
     },
     "execution_count": 5,
     "metadata": {},
     "output_type": "execute_result"
    }
   ],
   "source": [
    "df"
   ]
  },
  {
   "cell_type": "code",
   "execution_count": 13,
   "id": "6b5cb2aa-9799-43bc-b2a7-c9561cdb9362",
   "metadata": {},
   "outputs": [
    {
     "data": {
      "application/vnd.plotly.v1+json": {
       "config": {
        "plotlyServerURL": "https://plot.ly"
       },
       "data": [
        {
         "close": [
          94.05714416503906,
          94.85900115966795,
          95.1572494506836,
          94.8560028076172,
          94.79100799560548,
          95.09349822998048,
          95.35099792480467,
          94.45449829101562,
          95.02799987792967,
          94.98167419433594,
          94.89099884033205,
          93.41300964355467,
          94.21099853515624,
          94.87000274658205,
          104.2280044555664,
          104.59449768066406,
          105.15699768066406,
          105.94998931884766,
          104.00140380859376,
          102.54447174072266,
          103.8209991455078,
          103.97283935546876,
          104.68900299072266,
          104.5685043334961,
          104.8040008544922,
          105.53700256347656,
          105.957763671875,
          106.4380111694336,
          111.4000015258789,
          112.16400146484376,
          112.58799743652344,
          114.3834991455078,
          113.48799896240234,
          113.8730010986328,
          114,
          113.65238189697266,
          113.66751861572266,
          114.24300384521484,
          114.59930419921876,
          114.9209976196289,
          115.1709976196289,
          114.7560043334961,
          114.25150299072266,
          113.23500061035156,
          113.8966064453125,
          113.94000244140624,
          113.56330871582033,
          111.8800048828125,
          110.5540008544922,
          109.50309753417967,
          109.1270980834961,
          107.2199935913086,
          108.9260025024414,
          108.21971130371094,
          109.0019989013672,
          109.7459945678711,
          114.125,
          113.08599853515624,
          113.1979522705078,
          113.61500549316406,
          113.6020050048828,
          114.50300598144533,
          115,
          114.6199951171875,
          114.34449768066406,
          114.85160064697266,
          115.0689926147461,
          115.88065338134766,
          116.09066009521484,
          116.4439926147461,
          119.71820068359376,
          119.81300354003906,
          119.9000015258789,
          120.8685073852539,
          121.57259368896484,
          121.82698822021484,
          122.43900299072266,
          121.08900451660156,
          120.46247863769533,
          119.7270050048828,
          119.77950286865234,
          119.5999984741211,
          120.1614990234375,
          120.94100189208984,
          118.83030700683594,
          119.0060043334961,
          120.78700256347656,
          120.99749755859376,
          120.22349548339844,
          120.63999938964844,
          120.86500549316406,
          119.93000030517578,
          122.30829620361328,
          122.2300033569336,
          122.08000183105467,
          121.1750030517578,
          122.38999938964844,
          121.6500015258789,
          121.02680206298828,
          120.66999816894533
         ],
         "high": [
          94.3228988647461,
          94.98500061035156,
          95.28700256347656,
          95.1967544555664,
          95.04910278320312,
          95.12399291992188,
          95.4000015258789,
          96.01799774169922,
          95.03878021240234,
          95.18000030517578,
          95.11500549316406,
          94.89344024658205,
          94.22100067138672,
          94.95999145507812,
          104.26700592041016,
          104.7270050048828,
          105.1959991455078,
          105.9739990234375,
          106.31999206542967,
          104.33299255371094,
          104.1999969482422,
          104.72798919677734,
          104.99100494384766,
          104.86600494384766,
          104.99300384521484,
          105.78900146484376,
          106.1709976196289,
          106.4749984741211,
          112.1619873046875,
          112.4000015258789,
          113.2699966430664,
          114.43800354003906,
          114.93900299072266,
          114.28599548339844,
          114.4389877319336,
          113.9489974975586,
          114.8499984741211,
          114.33000183105467,
          114.9459991455078,
          115.49200439453124,
          115.34100341796876,
          115.3499984741211,
          115.81915283203124,
          114.45799255371094,
          114.25,
          114.04200744628906,
          114.18199157714844,
          113.7209930419922,
          112.093994140625,
          112.71700286865234,
          110.09898376464844,
          109.29000091552734,
          109.0199966430664,
          109.0500030517578,
          109.29899597167967,
          110.375,
          114.38399505615234,
          114.13499450683594,
          114.15998840332033,
          113.64998626708984,
          114.09200286865234,
          114.5999984741211,
          115,
          116.1230010986328,
          115.2300033569336,
          114.9000015258789,
          115.5199966430664,
          115.9000015258789,
          116.5999984741211,
          116.52618408203124,
          119.84898376464844,
          119.99300384521484,
          120,
          121.22900390625,
          121.5999984741211,
          122.35899353027344,
          122.44950103759766,
          125.58699798583984,
          122.38299560546876,
          120.8699951171875,
          120.3560028076172,
          120.375,
          120.4800033569336,
          121.40199279785156,
          119.84000396728516,
          119.45100402832033,
          120.79200744628906,
          121.69171142578124,
          121.4756317138672,
          120.9939956665039,
          121.26499938964844,
          121.25,
          122.47000122070312,
          122.7300033569336,
          123.0999984741211,
          122.79000091552734,
          122.47000122070312,
          122.38999938964844,
          122.87000274658205,
          121.4000015258789
         ],
         "low": [
          93.18000030517578,
          94.0500030517578,
          94.59201049804688,
          94.56800079345705,
          94.77999877929688,
          94.60277557373048,
          95.0128936767578,
          94.0719985961914,
          94.32301330566406,
          94.44000244140624,
          94.74699401855467,
          93.2490005493164,
          93.3040008544922,
          94.15999603271484,
          101.52000427246094,
          103.52000427246094,
          104.41099548339844,
          105,
          103.67000579833984,
          102.00300598144533,
          102.56199645996094,
          103,
          103.875,
          104.06219482421876,
          104.510009765625,
          104.7750015258789,
          105.125,
          105.7699966430664,
          109.95001220703124,
          111.3219985961914,
          111.9699935913086,
          112.59000396728516,
          113.156005859375,
          112.4000015258789,
          112.9311981201172,
          110.90201568603516,
          113.4020004272461,
          113.302001953125,
          114.1204833984375,
          114.11100769042967,
          114.656005859375,
          114.2270050048828,
          114.02099609375,
          112.56600189208984,
          113.15101623535156,
          113.4020004272461,
          113.25,
          111.1360092163086,
          109.6719970703125,
          109.0050048828125,
          108.28700256347656,
          106.94000244140624,
          107.17399597167967,
          107.9366455078125,
          108.11399841308594,
          108.9560089111328,
          113.0199966430664,
          112.00300598144533,
          112.71800231933594,
          112.5040054321289,
          113.3969955444336,
          113.35099792480467,
          114.10899353027344,
          114.0999984741211,
          114.2280044555664,
          114.04499816894533,
          114.677001953125,
          114.72501373291016,
          115.5500030517578,
          115.53199768066406,
          117.46800231933594,
          119.53700256347656,
          119.6999969482422,
          119.8219985961914,
          120.85400390625,
          121.4229965209961,
          121.6050033569336,
          118.4000015258789,
          120.0459976196289,
          119.3375244140625,
          118.31999206542967,
          119.1777572631836,
          119.4747543334961,
          120.02703857421876,
          118.0229949951172,
          118.70601654052734,
          119,
          120.22100830078124,
          119.4050064086914,
          119.9499969482422,
          120.5,
          117.01000213623048,
          119.55999755859376,
          121.62000274658205,
          121.88999938964844,
          121.08000183105467,
          120.52999877929688,
          121.46050262451172,
          120.66000366210938,
          120.01000213623048
         ],
         "open": [
          93.5989990234375,
          94.0780029296875,
          94.87100219726562,
          95.15599822998048,
          94.86500549316406,
          94.80899047851562,
          95.08100128173828,
          95.41099548339844,
          94.4459991455078,
          95.02799987792967,
          94.97100067138672,
          94.88200378417967,
          93.41500091552734,
          94.19400024414062,
          102,
          104.22249603271484,
          104.5999984741211,
          105.15879821777344,
          105.93399810791016,
          104,
          102.56199645996094,
          104.51800537109376,
          104,
          104.69876861572266,
          104.58290100097656,
          104.8010025024414,
          105.5479965209961,
          105.9489974975586,
          109.96700286865234,
          111.4077606201172,
          112.16072845458984,
          112.60530090332033,
          114.3915023803711,
          113.4770050048828,
          113.89898681640624,
          113.05450439453124,
          113.6780014038086,
          113.6500015258789,
          114.2310028076172,
          114.59748840332033,
          114.90799713134766,
          115.14949798583984,
          114.61700439453124,
          114.24200439453124,
          113.23299407958984,
          113.88199615478516,
          113.90706634521484,
          113.55350494384766,
          111.90350341796876,
          112.51300048828124,
          109.4499969482422,
          109.17613220214844,
          107.22532653808594,
          108.92399597167967,
          108.2170639038086,
          109.0040054321289,
          113.58935546875,
          114.10001373291016,
          113.0689926147461,
          113.16600036621094,
          113.60450744628906,
          113.59700012207033,
          114.51600646972656,
          115.5500030517578,
          114.60099792480467,
          114.31999206542967,
          114.86199951171876,
          115.08599853515624,
          115.88499450683594,
          116.08699798583984,
          118.37199401855467,
          119.7280044555664,
          119.83000183105467,
          119.8975067138672,
          120.87918853759766,
          121.55999755859376,
          121.811279296875,
          124.09100341796876,
          121.1738052368164,
          120.4020004272461,
          119.67916107177734,
          119.77950286865234,
          119.5989990234375,
          120.1439971923828,
          119.8399658203125,
          118.82365417480467,
          119.02506256103516,
          120.7800064086914,
          120.97599792480467,
          120.20100402832033,
          120.63999938964844,
          120.0999984741211,
          119.91999816894533,
          122.29499816894533,
          122.2300033569336,
          122.0894012451172,
          121.16999816894533,
          122.38999938964844,
          122.03019714355467,
          121.05500030517578
         ],
         "type": "candlestick",
         "x": [
          0,
          1,
          2,
          3,
          4,
          5,
          6,
          7,
          8,
          9,
          10,
          11,
          12,
          13,
          14,
          15,
          16,
          17,
          18,
          19,
          20,
          21,
          22,
          23,
          24,
          25,
          26,
          27,
          28,
          29,
          30,
          31,
          32,
          33,
          34,
          35,
          36,
          37,
          38,
          39,
          40,
          41,
          42,
          43,
          44,
          45,
          46,
          47,
          48,
          49,
          50,
          51,
          52,
          53,
          54,
          55,
          56,
          57,
          58,
          59,
          60,
          61,
          62,
          63,
          64,
          65,
          66,
          67,
          68,
          69,
          70,
          71,
          72,
          73,
          74,
          75,
          76,
          77,
          78,
          79,
          80,
          81,
          82,
          83,
          84,
          85,
          86,
          87,
          88,
          89,
          90,
          91,
          92,
          93,
          94,
          95,
          96,
          97,
          98,
          99
         ]
        },
        {
         "line": {
          "color": "red",
          "width": 2
         },
         "name": "EMA",
         "type": "scatter",
         "x": [
          0,
          1,
          2,
          3,
          4,
          5,
          6,
          7,
          8,
          9,
          10,
          11,
          12,
          13,
          14,
          15,
          16,
          17,
          18,
          19,
          20,
          21,
          22,
          23,
          24,
          25,
          26,
          27,
          28,
          29,
          30,
          31,
          32,
          33,
          34,
          35,
          36,
          37,
          38,
          39,
          40,
          41,
          42,
          43,
          44,
          45,
          46,
          47,
          48,
          49,
          50,
          51,
          52,
          53,
          54,
          55,
          56,
          57,
          58,
          59,
          60,
          61,
          62,
          63,
          64,
          65,
          66,
          67,
          68,
          69,
          70,
          71,
          72,
          73,
          74,
          75,
          76,
          77,
          78,
          79,
          80,
          81,
          82,
          83,
          84,
          85,
          86,
          87,
          88,
          89,
          90,
          91,
          92,
          93,
          94,
          95,
          96,
          97,
          98,
          99
         ],
         "y": [
          null,
          null,
          null,
          null,
          null,
          null,
          null,
          null,
          null,
          94.86290740966797,
          94.86801494251598,
          94.60346852452301,
          94.53211034463814,
          94.59354532680976,
          96.34526516840187,
          97.8451256251768,
          99.17455690799267,
          100.40645370996629,
          101.06008100062581,
          101.32997022609797,
          101.78288457508157,
          102.1810581715156,
          102.63704813864415,
          102.98822199225359,
          103.31836360356968,
          103.72175250537092,
          104.12829999018983,
          104.54824747732506,
          105.79402094069849,
          106.9521992178158,
          107.97688980303538,
          109.14172786530308,
          109.93195897386659,
          110.64851208746043,
          111.25787352610399,
          111.69323868444374,
          112.052198671949,
          112.45052688527005,
          112.84121366962435,
          113.21935620598882,
          113.57420009937792,
          113.78907359649031,
          113.8731516681689,
          113.75712420311119,
          113.78248461078414,
          113.8111242163518,
          113.76606685261879,
          113.42314649447218,
          112.90148365083945,
          112.28359526599222,
          111.70968668735655,
          110.89337885171147,
          110.5356740609351,
          110.11458992325797,
          109.91230064655056,
          109.88206317769973,
          110.65350623629978,
          111.09577756336458,
          111.47799114648151,
          111.8665392095147,
          112.18207844503617,
          112.60406526983783,
          113.03968976623095,
          113.32701801185941,
          113.51201431527844,
          113.75557546649556,
          113.99437858435928,
          114.33733763835717,
          114.65612353960401,
          114.98119064417529,
          115.84246519679682,
          116.5643812592045,
          117.17085767132711,
          117.8431576193138,
          118.52123690470489,
          119.12228259843397,
          119.72532266975918,
          119.97326482373052,
          120.06221278990593,
          120.00126591990171,
          119.96094536512909,
          119.89531865767309,
          119.94371508781207,
          120.12503996131711,
          119.88963396959326,
          119.7289740357574,
          119.92134285897906,
          120.1170073498181,
          120.13636882865089,
          120.22793802155954,
          120.34376847094217,
          120.26853789534826,
          120.63940304230553,
          120.92860309951062,
          121.13794832342772,
          121.14468554676046,
          121.37110624546736,
          121.42181447826945,
          121.34999403912741,
          121.22635842636703
         ]
        }
       ],
       "layout": {
        "autosize": true,
        "template": {
         "data": {
          "bar": [
           {
            "error_x": {
             "color": "#2a3f5f"
            },
            "error_y": {
             "color": "#2a3f5f"
            },
            "marker": {
             "line": {
              "color": "#E5ECF6",
              "width": 0.5
             },
             "pattern": {
              "fillmode": "overlay",
              "size": 10,
              "solidity": 0.2
             }
            },
            "type": "bar"
           }
          ],
          "barpolar": [
           {
            "marker": {
             "line": {
              "color": "#E5ECF6",
              "width": 0.5
             },
             "pattern": {
              "fillmode": "overlay",
              "size": 10,
              "solidity": 0.2
             }
            },
            "type": "barpolar"
           }
          ],
          "carpet": [
           {
            "aaxis": {
             "endlinecolor": "#2a3f5f",
             "gridcolor": "white",
             "linecolor": "white",
             "minorgridcolor": "white",
             "startlinecolor": "#2a3f5f"
            },
            "baxis": {
             "endlinecolor": "#2a3f5f",
             "gridcolor": "white",
             "linecolor": "white",
             "minorgridcolor": "white",
             "startlinecolor": "#2a3f5f"
            },
            "type": "carpet"
           }
          ],
          "choropleth": [
           {
            "colorbar": {
             "outlinewidth": 0,
             "ticks": ""
            },
            "type": "choropleth"
           }
          ],
          "contour": [
           {
            "colorbar": {
             "outlinewidth": 0,
             "ticks": ""
            },
            "colorscale": [
             [
              0,
              "#0d0887"
             ],
             [
              0.1111111111111111,
              "#46039f"
             ],
             [
              0.2222222222222222,
              "#7201a8"
             ],
             [
              0.3333333333333333,
              "#9c179e"
             ],
             [
              0.4444444444444444,
              "#bd3786"
             ],
             [
              0.5555555555555556,
              "#d8576b"
             ],
             [
              0.6666666666666666,
              "#ed7953"
             ],
             [
              0.7777777777777778,
              "#fb9f3a"
             ],
             [
              0.8888888888888888,
              "#fdca26"
             ],
             [
              1,
              "#f0f921"
             ]
            ],
            "type": "contour"
           }
          ],
          "contourcarpet": [
           {
            "colorbar": {
             "outlinewidth": 0,
             "ticks": ""
            },
            "type": "contourcarpet"
           }
          ],
          "heatmap": [
           {
            "colorbar": {
             "outlinewidth": 0,
             "ticks": ""
            },
            "colorscale": [
             [
              0,
              "#0d0887"
             ],
             [
              0.1111111111111111,
              "#46039f"
             ],
             [
              0.2222222222222222,
              "#7201a8"
             ],
             [
              0.3333333333333333,
              "#9c179e"
             ],
             [
              0.4444444444444444,
              "#bd3786"
             ],
             [
              0.5555555555555556,
              "#d8576b"
             ],
             [
              0.6666666666666666,
              "#ed7953"
             ],
             [
              0.7777777777777778,
              "#fb9f3a"
             ],
             [
              0.8888888888888888,
              "#fdca26"
             ],
             [
              1,
              "#f0f921"
             ]
            ],
            "type": "heatmap"
           }
          ],
          "heatmapgl": [
           {
            "colorbar": {
             "outlinewidth": 0,
             "ticks": ""
            },
            "colorscale": [
             [
              0,
              "#0d0887"
             ],
             [
              0.1111111111111111,
              "#46039f"
             ],
             [
              0.2222222222222222,
              "#7201a8"
             ],
             [
              0.3333333333333333,
              "#9c179e"
             ],
             [
              0.4444444444444444,
              "#bd3786"
             ],
             [
              0.5555555555555556,
              "#d8576b"
             ],
             [
              0.6666666666666666,
              "#ed7953"
             ],
             [
              0.7777777777777778,
              "#fb9f3a"
             ],
             [
              0.8888888888888888,
              "#fdca26"
             ],
             [
              1,
              "#f0f921"
             ]
            ],
            "type": "heatmapgl"
           }
          ],
          "histogram": [
           {
            "marker": {
             "pattern": {
              "fillmode": "overlay",
              "size": 10,
              "solidity": 0.2
             }
            },
            "type": "histogram"
           }
          ],
          "histogram2d": [
           {
            "colorbar": {
             "outlinewidth": 0,
             "ticks": ""
            },
            "colorscale": [
             [
              0,
              "#0d0887"
             ],
             [
              0.1111111111111111,
              "#46039f"
             ],
             [
              0.2222222222222222,
              "#7201a8"
             ],
             [
              0.3333333333333333,
              "#9c179e"
             ],
             [
              0.4444444444444444,
              "#bd3786"
             ],
             [
              0.5555555555555556,
              "#d8576b"
             ],
             [
              0.6666666666666666,
              "#ed7953"
             ],
             [
              0.7777777777777778,
              "#fb9f3a"
             ],
             [
              0.8888888888888888,
              "#fdca26"
             ],
             [
              1,
              "#f0f921"
             ]
            ],
            "type": "histogram2d"
           }
          ],
          "histogram2dcontour": [
           {
            "colorbar": {
             "outlinewidth": 0,
             "ticks": ""
            },
            "colorscale": [
             [
              0,
              "#0d0887"
             ],
             [
              0.1111111111111111,
              "#46039f"
             ],
             [
              0.2222222222222222,
              "#7201a8"
             ],
             [
              0.3333333333333333,
              "#9c179e"
             ],
             [
              0.4444444444444444,
              "#bd3786"
             ],
             [
              0.5555555555555556,
              "#d8576b"
             ],
             [
              0.6666666666666666,
              "#ed7953"
             ],
             [
              0.7777777777777778,
              "#fb9f3a"
             ],
             [
              0.8888888888888888,
              "#fdca26"
             ],
             [
              1,
              "#f0f921"
             ]
            ],
            "type": "histogram2dcontour"
           }
          ],
          "mesh3d": [
           {
            "colorbar": {
             "outlinewidth": 0,
             "ticks": ""
            },
            "type": "mesh3d"
           }
          ],
          "parcoords": [
           {
            "line": {
             "colorbar": {
              "outlinewidth": 0,
              "ticks": ""
             }
            },
            "type": "parcoords"
           }
          ],
          "pie": [
           {
            "automargin": true,
            "type": "pie"
           }
          ],
          "scatter": [
           {
            "fillpattern": {
             "fillmode": "overlay",
             "size": 10,
             "solidity": 0.2
            },
            "type": "scatter"
           }
          ],
          "scatter3d": [
           {
            "line": {
             "colorbar": {
              "outlinewidth": 0,
              "ticks": ""
             }
            },
            "marker": {
             "colorbar": {
              "outlinewidth": 0,
              "ticks": ""
             }
            },
            "type": "scatter3d"
           }
          ],
          "scattercarpet": [
           {
            "marker": {
             "colorbar": {
              "outlinewidth": 0,
              "ticks": ""
             }
            },
            "type": "scattercarpet"
           }
          ],
          "scattergeo": [
           {
            "marker": {
             "colorbar": {
              "outlinewidth": 0,
              "ticks": ""
             }
            },
            "type": "scattergeo"
           }
          ],
          "scattergl": [
           {
            "marker": {
             "colorbar": {
              "outlinewidth": 0,
              "ticks": ""
             }
            },
            "type": "scattergl"
           }
          ],
          "scattermapbox": [
           {
            "marker": {
             "colorbar": {
              "outlinewidth": 0,
              "ticks": ""
             }
            },
            "type": "scattermapbox"
           }
          ],
          "scatterpolar": [
           {
            "marker": {
             "colorbar": {
              "outlinewidth": 0,
              "ticks": ""
             }
            },
            "type": "scatterpolar"
           }
          ],
          "scatterpolargl": [
           {
            "marker": {
             "colorbar": {
              "outlinewidth": 0,
              "ticks": ""
             }
            },
            "type": "scatterpolargl"
           }
          ],
          "scatterternary": [
           {
            "marker": {
             "colorbar": {
              "outlinewidth": 0,
              "ticks": ""
             }
            },
            "type": "scatterternary"
           }
          ],
          "surface": [
           {
            "colorbar": {
             "outlinewidth": 0,
             "ticks": ""
            },
            "colorscale": [
             [
              0,
              "#0d0887"
             ],
             [
              0.1111111111111111,
              "#46039f"
             ],
             [
              0.2222222222222222,
              "#7201a8"
             ],
             [
              0.3333333333333333,
              "#9c179e"
             ],
             [
              0.4444444444444444,
              "#bd3786"
             ],
             [
              0.5555555555555556,
              "#d8576b"
             ],
             [
              0.6666666666666666,
              "#ed7953"
             ],
             [
              0.7777777777777778,
              "#fb9f3a"
             ],
             [
              0.8888888888888888,
              "#fdca26"
             ],
             [
              1,
              "#f0f921"
             ]
            ],
            "type": "surface"
           }
          ],
          "table": [
           {
            "cells": {
             "fill": {
              "color": "#EBF0F8"
             },
             "line": {
              "color": "white"
             }
            },
            "header": {
             "fill": {
              "color": "#C8D4E3"
             },
             "line": {
              "color": "white"
             }
            },
            "type": "table"
           }
          ]
         },
         "layout": {
          "annotationdefaults": {
           "arrowcolor": "#2a3f5f",
           "arrowhead": 0,
           "arrowwidth": 1
          },
          "autotypenumbers": "strict",
          "coloraxis": {
           "colorbar": {
            "outlinewidth": 0,
            "ticks": ""
           }
          },
          "colorscale": {
           "diverging": [
            [
             0,
             "#8e0152"
            ],
            [
             0.1,
             "#c51b7d"
            ],
            [
             0.2,
             "#de77ae"
            ],
            [
             0.3,
             "#f1b6da"
            ],
            [
             0.4,
             "#fde0ef"
            ],
            [
             0.5,
             "#f7f7f7"
            ],
            [
             0.6,
             "#e6f5d0"
            ],
            [
             0.7,
             "#b8e186"
            ],
            [
             0.8,
             "#7fbc41"
            ],
            [
             0.9,
             "#4d9221"
            ],
            [
             1,
             "#276419"
            ]
           ],
           "sequential": [
            [
             0,
             "#0d0887"
            ],
            [
             0.1111111111111111,
             "#46039f"
            ],
            [
             0.2222222222222222,
             "#7201a8"
            ],
            [
             0.3333333333333333,
             "#9c179e"
            ],
            [
             0.4444444444444444,
             "#bd3786"
            ],
            [
             0.5555555555555556,
             "#d8576b"
            ],
            [
             0.6666666666666666,
             "#ed7953"
            ],
            [
             0.7777777777777778,
             "#fb9f3a"
            ],
            [
             0.8888888888888888,
             "#fdca26"
            ],
            [
             1,
             "#f0f921"
            ]
           ],
           "sequentialminus": [
            [
             0,
             "#0d0887"
            ],
            [
             0.1111111111111111,
             "#46039f"
            ],
            [
             0.2222222222222222,
             "#7201a8"
            ],
            [
             0.3333333333333333,
             "#9c179e"
            ],
            [
             0.4444444444444444,
             "#bd3786"
            ],
            [
             0.5555555555555556,
             "#d8576b"
            ],
            [
             0.6666666666666666,
             "#ed7953"
            ],
            [
             0.7777777777777778,
             "#fb9f3a"
            ],
            [
             0.8888888888888888,
             "#fdca26"
            ],
            [
             1,
             "#f0f921"
            ]
           ]
          },
          "colorway": [
           "#636efa",
           "#EF553B",
           "#00cc96",
           "#ab63fa",
           "#FFA15A",
           "#19d3f3",
           "#FF6692",
           "#B6E880",
           "#FF97FF",
           "#FECB52"
          ],
          "font": {
           "color": "#2a3f5f"
          },
          "geo": {
           "bgcolor": "white",
           "lakecolor": "white",
           "landcolor": "#E5ECF6",
           "showlakes": true,
           "showland": true,
           "subunitcolor": "white"
          },
          "hoverlabel": {
           "align": "left"
          },
          "hovermode": "closest",
          "mapbox": {
           "style": "light"
          },
          "paper_bgcolor": "white",
          "plot_bgcolor": "#E5ECF6",
          "polar": {
           "angularaxis": {
            "gridcolor": "white",
            "linecolor": "white",
            "ticks": ""
           },
           "bgcolor": "#E5ECF6",
           "radialaxis": {
            "gridcolor": "white",
            "linecolor": "white",
            "ticks": ""
           }
          },
          "scene": {
           "xaxis": {
            "backgroundcolor": "#E5ECF6",
            "gridcolor": "white",
            "gridwidth": 2,
            "linecolor": "white",
            "showbackground": true,
            "ticks": "",
            "zerolinecolor": "white"
           },
           "yaxis": {
            "backgroundcolor": "#E5ECF6",
            "gridcolor": "white",
            "gridwidth": 2,
            "linecolor": "white",
            "showbackground": true,
            "ticks": "",
            "zerolinecolor": "white"
           },
           "zaxis": {
            "backgroundcolor": "#E5ECF6",
            "gridcolor": "white",
            "gridwidth": 2,
            "linecolor": "white",
            "showbackground": true,
            "ticks": "",
            "zerolinecolor": "white"
           }
          },
          "shapedefaults": {
           "line": {
            "color": "#2a3f5f"
           }
          },
          "ternary": {
           "aaxis": {
            "gridcolor": "white",
            "linecolor": "white",
            "ticks": ""
           },
           "baxis": {
            "gridcolor": "white",
            "linecolor": "white",
            "ticks": ""
           },
           "bgcolor": "#E5ECF6",
           "caxis": {
            "gridcolor": "white",
            "linecolor": "white",
            "ticks": ""
           }
          },
          "title": {
           "x": 0.05
          },
          "xaxis": {
           "automargin": true,
           "gridcolor": "white",
           "linecolor": "white",
           "ticks": "",
           "title": {
            "standoff": 15
           },
           "zerolinecolor": "white",
           "zerolinewidth": 2
          },
          "yaxis": {
           "automargin": true,
           "gridcolor": "white",
           "linecolor": "white",
           "ticks": "",
           "title": {
            "standoff": 15
           },
           "zerolinecolor": "white",
           "zerolinewidth": 2
          }
         }
        },
        "xaxis": {
         "autorange": true,
         "range": [
          -0.5,
          99.5
         ],
         "rangeslider": {
          "autorange": true,
          "range": [
           -0.5,
           99.5
          ],
          "yaxis": {
           "_template": null,
           "rangemode": "match"
          }
         },
         "type": "linear"
        },
        "yaxis": {
         "autorange": true,
         "range": [
          91.37961154513889,
          127.38738674587674
         ],
         "type": "linear"
        }
       }
      },
      "image/png": "[encoded data removed]",
      "text/html": [
       "<div>                            <div id=\"c88c7387-0dcc-4649-a2f8-ac7b31ad5db3\" class=\"plotly-graph-div\" style=\"height:525px; width:100%;\"></div>            <script type=\"text/javascript\">                require([\"plotly\"], function(Plotly) {                    window.PLOTLYENV=window.PLOTLYENV || {};                                    if (document.getElementById(\"c88c7387-0dcc-4649-a2f8-ac7b31ad5db3\")) {                    Plotly.newPlot(                        \"c88c7387-0dcc-4649-a2f8-ac7b31ad5db3\",                        [{\"close\":[94.05714416503906,94.85900115966795,95.1572494506836,94.8560028076172,94.79100799560548,95.09349822998048,95.35099792480467,94.45449829101562,95.02799987792967,94.98167419433594,94.89099884033205,93.41300964355467,94.21099853515624,94.87000274658205,104.2280044555664,104.59449768066406,105.15699768066406,105.94998931884766,104.00140380859376,102.54447174072266,103.8209991455078,103.97283935546876,104.68900299072266,104.5685043334961,104.8040008544922,105.53700256347656,105.957763671875,106.4380111694336,111.4000015258789,112.16400146484376,112.58799743652344,114.3834991455078,113.48799896240234,113.8730010986328,114.0,113.65238189697266,113.66751861572266,114.24300384521484,114.59930419921876,114.9209976196289,115.1709976196289,114.7560043334961,114.25150299072266,113.23500061035156,113.8966064453125,113.94000244140624,113.56330871582033,111.8800048828125,110.5540008544922,109.50309753417967,109.1270980834961,107.2199935913086,108.9260025024414,108.21971130371094,109.0019989013672,109.7459945678711,114.125,113.08599853515624,113.1979522705078,113.61500549316406,113.6020050048828,114.50300598144533,115.0,114.6199951171875,114.34449768066406,114.85160064697266,115.0689926147461,115.88065338134766,116.09066009521484,116.4439926147461,119.71820068359376,119.81300354003906,119.9000015258789,120.8685073852539,121.57259368896484,121.82698822021484,122.43900299072266,121.08900451660156,120.46247863769533,119.7270050048828,119.77950286865234,119.5999984741211,120.1614990234375,120.94100189208984,118.83030700683594,119.0060043334961,120.78700256347656,120.99749755859376,120.22349548339844,120.63999938964844,120.86500549316406,119.93000030517578,122.30829620361328,122.2300033569336,122.08000183105467,121.1750030517578,122.38999938964844,121.6500015258789,121.02680206298828,120.66999816894533],\"high\":[94.3228988647461,94.98500061035156,95.28700256347656,95.1967544555664,95.04910278320312,95.12399291992188,95.4000015258789,96.01799774169922,95.03878021240234,95.18000030517578,95.11500549316406,94.89344024658205,94.22100067138672,94.95999145507812,104.26700592041016,104.7270050048828,105.1959991455078,105.9739990234375,106.31999206542967,104.33299255371094,104.1999969482422,104.72798919677734,104.99100494384766,104.86600494384766,104.99300384521484,105.78900146484376,106.1709976196289,106.4749984741211,112.1619873046875,112.4000015258789,113.2699966430664,114.43800354003906,114.93900299072266,114.28599548339844,114.4389877319336,113.9489974975586,114.8499984741211,114.33000183105467,114.9459991455078,115.49200439453124,115.34100341796876,115.3499984741211,115.81915283203124,114.45799255371094,114.25,114.04200744628906,114.18199157714844,113.7209930419922,112.093994140625,112.71700286865234,110.09898376464844,109.29000091552734,109.0199966430664,109.0500030517578,109.29899597167967,110.375,114.38399505615234,114.13499450683594,114.15998840332033,113.64998626708984,114.09200286865234,114.5999984741211,115.0,116.1230010986328,115.2300033569336,114.9000015258789,115.5199966430664,115.9000015258789,116.5999984741211,116.52618408203124,119.84898376464844,119.99300384521484,120.0,121.22900390625,121.5999984741211,122.35899353027344,122.44950103759766,125.58699798583984,122.38299560546876,120.8699951171875,120.3560028076172,120.375,120.4800033569336,121.40199279785156,119.84000396728516,119.45100402832033,120.79200744628906,121.69171142578124,121.4756317138672,120.9939956665039,121.26499938964844,121.25,122.47000122070312,122.7300033569336,123.0999984741211,122.79000091552734,122.47000122070312,122.38999938964844,122.87000274658205,121.4000015258789],\"low\":[93.18000030517578,94.0500030517578,94.59201049804688,94.56800079345705,94.77999877929688,94.60277557373048,95.0128936767578,94.0719985961914,94.32301330566406,94.44000244140624,94.74699401855467,93.2490005493164,93.3040008544922,94.15999603271484,101.52000427246094,103.52000427246094,104.41099548339844,105.0,103.67000579833984,102.00300598144533,102.56199645996094,103.0,103.875,104.06219482421876,104.510009765625,104.7750015258789,105.125,105.7699966430664,109.95001220703124,111.3219985961914,111.9699935913086,112.59000396728516,113.156005859375,112.4000015258789,112.9311981201172,110.90201568603516,113.4020004272461,113.302001953125,114.1204833984375,114.11100769042967,114.656005859375,114.2270050048828,114.02099609375,112.56600189208984,113.15101623535156,113.4020004272461,113.25,111.1360092163086,109.6719970703125,109.0050048828125,108.28700256347656,106.94000244140624,107.17399597167967,107.9366455078125,108.11399841308594,108.9560089111328,113.0199966430664,112.00300598144533,112.71800231933594,112.5040054321289,113.3969955444336,113.35099792480467,114.10899353027344,114.0999984741211,114.2280044555664,114.04499816894533,114.677001953125,114.72501373291016,115.5500030517578,115.53199768066406,117.46800231933594,119.53700256347656,119.6999969482422,119.8219985961914,120.85400390625,121.4229965209961,121.6050033569336,118.4000015258789,120.0459976196289,119.3375244140625,118.31999206542967,119.1777572631836,119.4747543334961,120.02703857421876,118.0229949951172,118.70601654052734,119.0,120.22100830078124,119.4050064086914,119.9499969482422,120.5,117.01000213623048,119.55999755859376,121.62000274658205,121.88999938964844,121.08000183105467,120.52999877929688,121.46050262451172,120.66000366210938,120.01000213623048],\"open\":[93.5989990234375,94.0780029296875,94.87100219726562,95.15599822998048,94.86500549316406,94.80899047851562,95.08100128173828,95.41099548339844,94.4459991455078,95.02799987792967,94.97100067138672,94.88200378417967,93.41500091552734,94.19400024414062,102.0,104.22249603271484,104.5999984741211,105.15879821777344,105.93399810791016,104.0,102.56199645996094,104.51800537109376,104.0,104.69876861572266,104.58290100097656,104.8010025024414,105.5479965209961,105.9489974975586,109.96700286865234,111.4077606201172,112.16072845458984,112.60530090332033,114.3915023803711,113.4770050048828,113.89898681640624,113.05450439453124,113.6780014038086,113.6500015258789,114.2310028076172,114.59748840332033,114.90799713134766,115.14949798583984,114.61700439453124,114.24200439453124,113.23299407958984,113.88199615478516,113.90706634521484,113.55350494384766,111.90350341796876,112.51300048828124,109.4499969482422,109.17613220214844,107.22532653808594,108.92399597167967,108.2170639038086,109.0040054321289,113.58935546875,114.10001373291016,113.0689926147461,113.16600036621094,113.60450744628906,113.59700012207033,114.51600646972656,115.5500030517578,114.60099792480467,114.31999206542967,114.86199951171876,115.08599853515624,115.88499450683594,116.08699798583984,118.37199401855467,119.7280044555664,119.83000183105467,119.8975067138672,120.87918853759766,121.55999755859376,121.811279296875,124.09100341796876,121.1738052368164,120.4020004272461,119.67916107177734,119.77950286865234,119.5989990234375,120.1439971923828,119.8399658203125,118.82365417480467,119.02506256103516,120.7800064086914,120.97599792480467,120.20100402832033,120.63999938964844,120.0999984741211,119.91999816894533,122.29499816894533,122.2300033569336,122.0894012451172,121.16999816894533,122.38999938964844,122.03019714355467,121.05500030517578],\"x\":[0,1,2,3,4,5,6,7,8,9,10,11,12,13,14,15,16,17,18,19,20,21,22,23,24,25,26,27,28,29,30,31,32,33,34,35,36,37,38,39,40,41,42,43,44,45,46,47,48,49,50,51,52,53,54,55,56,57,58,59,60,61,62,63,64,65,66,67,68,69,70,71,72,73,74,75,76,77,78,79,80,81,82,83,84,85,86,87,88,89,90,91,92,93,94,95,96,97,98,99],\"type\":\"candlestick\"},{\"line\":{\"color\":\"red\",\"width\":2},\"name\":\"EMA\",\"x\":[0,1,2,3,4,5,6,7,8,9,10,11,12,13,14,15,16,17,18,19,20,21,22,23,24,25,26,27,28,29,30,31,32,33,34,35,36,37,38,39,40,41,42,43,44,45,46,47,48,49,50,51,52,53,54,55,56,57,58,59,60,61,62,63,64,65,66,67,68,69,70,71,72,73,74,75,76,77,78,79,80,81,82,83,84,85,86,87,88,89,90,91,92,93,94,95,96,97,98,99],\"y\":[null,null,null,null,null,null,null,null,null,94.86290740966797,94.86801494251598,94.60346852452301,94.53211034463814,94.59354532680976,96.34526516840187,97.8451256251768,99.17455690799267,100.40645370996629,101.06008100062581,101.32997022609797,101.78288457508157,102.1810581715156,102.63704813864415,102.98822199225359,103.31836360356968,103.72175250537092,104.12829999018983,104.54824747732506,105.79402094069849,106.9521992178158,107.97688980303538,109.14172786530308,109.93195897386659,110.64851208746043,111.25787352610399,111.69323868444374,112.052198671949,112.45052688527005,112.84121366962435,113.21935620598882,113.57420009937792,113.78907359649031,113.8731516681689,113.75712420311119,113.78248461078414,113.8111242163518,113.76606685261879,113.42314649447218,112.90148365083945,112.28359526599222,111.70968668735655,110.89337885171147,110.5356740609351,110.11458992325797,109.91230064655056,109.88206317769973,110.65350623629978,111.09577756336458,111.47799114648151,111.8665392095147,112.18207844503617,112.60406526983783,113.03968976623095,113.32701801185941,113.51201431527844,113.75557546649556,113.99437858435928,114.33733763835717,114.65612353960401,114.98119064417529,115.84246519679682,116.5643812592045,117.17085767132711,117.8431576193138,118.52123690470489,119.12228259843397,119.72532266975918,119.97326482373052,120.06221278990593,120.00126591990171,119.96094536512909,119.89531865767309,119.94371508781207,120.12503996131711,119.88963396959326,119.7289740357574,119.92134285897906,120.1170073498181,120.13636882865089,120.22793802155954,120.34376847094217,120.26853789534826,120.63940304230553,120.92860309951062,121.13794832342772,121.14468554676046,121.37110624546736,121.42181447826945,121.34999403912741,121.22635842636703],\"type\":\"scatter\"}],                        {\"template\":{\"data\":{\"histogram2dcontour\":[{\"type\":\"histogram2dcontour\",\"colorbar\":{\"outlinewidth\":0,\"ticks\":\"\"},\"colorscale\":[[0.0,\"#0d0887\"],[0.1111111111111111,\"#46039f\"],[0.2222222222222222,\"#7201a8\"],[0.3333333333333333,\"#9c179e\"],[0.4444444444444444,\"#bd3786\"],[0.5555555555555556,\"#d8576b\"],[0.6666666666666666,\"#ed7953\"],[0.7777777777777778,\"#fb9f3a\"],[0.8888888888888888,\"#fdca26\"],[1.0,\"#f0f921\"]]}],\"choropleth\":[{\"type\":\"choropleth\",\"colorbar\":{\"outlinewidth\":0,\"ticks\":\"\"}}],\"histogram2d\":[{\"type\":\"histogram2d\",\"colorbar\":{\"outlinewidth\":0,\"ticks\":\"\"},\"colorscale\":[[0.0,\"#0d0887\"],[0.1111111111111111,\"#46039f\"],[0.2222222222222222,\"#7201a8\"],[0.3333333333333333,\"#9c179e\"],[0.4444444444444444,\"#bd3786\"],[0.5555555555555556,\"#d8576b\"],[0.6666666666666666,\"#ed7953\"],[0.7777777777777778,\"#fb9f3a\"],[0.8888888888888888,\"#fdca26\"],[1.0,\"#f0f921\"]]}],\"heatmap\":[{\"type\":\"heatmap\",\"colorbar\":{\"outlinewidth\":0,\"ticks\":\"\"},\"colorscale\":[[0.0,\"#0d0887\"],[0.1111111111111111,\"#46039f\"],[0.2222222222222222,\"#7201a8\"],[0.3333333333333333,\"#9c179e\"],[0.4444444444444444,\"#bd3786\"],[0.5555555555555556,\"#d8576b\"],[0.6666666666666666,\"#ed7953\"],[0.7777777777777778,\"#fb9f3a\"],[0.8888888888888888,\"#fdca26\"],[1.0,\"#f0f921\"]]}],\"heatmapgl\":[{\"type\":\"heatmapgl\",\"colorbar\":{\"outlinewidth\":0,\"ticks\":\"\"},\"colorscale\":[[0.0,\"#0d0887\"],[0.1111111111111111,\"#46039f\"],[0.2222222222222222,\"#7201a8\"],[0.3333333333333333,\"#9c179e\"],[0.4444444444444444,\"#bd3786\"],[0.5555555555555556,\"#d8576b\"],[0.6666666666666666,\"#ed7953\"],[0.7777777777777778,\"#fb9f3a\"],[0.8888888888888888,\"#fdca26\"],[1.0,\"#f0f921\"]]}],\"contourcarpet\":[{\"type\":\"contourcarpet\",\"colorbar\":{\"outlinewidth\":0,\"ticks\":\"\"}}],\"contour\":[{\"type\":\"contour\",\"colorbar\":{\"outlinewidth\":0,\"ticks\":\"\"},\"colorscale\":[[0.0,\"#0d0887\"],[0.1111111111111111,\"#46039f\"],[0.2222222222222222,\"#7201a8\"],[0.3333333333333333,\"#9c179e\"],[0.4444444444444444,\"#bd3786\"],[0.5555555555555556,\"#d8576b\"],[0.6666666666666666,\"#ed7953\"],[0.7777777777777778,\"#fb9f3a\"],[0.8888888888888888,\"#fdca26\"],[1.0,\"#f0f921\"]]}],\"surface\":[{\"type\":\"surface\",\"colorbar\":{\"outlinewidth\":0,\"ticks\":\"\"},\"colorscale\":[[0.0,\"#0d0887\"],[0.1111111111111111,\"#46039f\"],[0.2222222222222222,\"#7201a8\"],[0.3333333333333333,\"#9c179e\"],[0.4444444444444444,\"#bd3786\"],[0.5555555555555556,\"#d8576b\"],[0.6666666666666666,\"#ed7953\"],[0.7777777777777778,\"#fb9f3a\"],[0.8888888888888888,\"#fdca26\"],[1.0,\"#f0f921\"]]}],\"mesh3d\":[{\"type\":\"mesh3d\",\"colorbar\":{\"outlinewidth\":0,\"ticks\":\"\"}}],\"scatter\":[{\"fillpattern\":{\"fillmode\":\"overlay\",\"size\":10,\"solidity\":0.2},\"type\":\"scatter\"}],\"parcoords\":[{\"type\":\"parcoords\",\"line\":{\"colorbar\":{\"outlinewidth\":0,\"ticks\":\"\"}}}],\"scatterpolargl\":[{\"type\":\"scatterpolargl\",\"marker\":{\"colorbar\":{\"outlinewidth\":0,\"ticks\":\"\"}}}],\"bar\":[{\"error_x\":{\"color\":\"#2a3f5f\"},\"error_y\":{\"color\":\"#2a3f5f\"},\"marker\":{\"line\":{\"color\":\"#E5ECF6\",\"width\":0.5},\"pattern\":{\"fillmode\":\"overlay\",\"size\":10,\"solidity\":0.2}},\"type\":\"bar\"}],\"scattergeo\":[{\"type\":\"scattergeo\",\"marker\":{\"colorbar\":{\"outlinewidth\":0,\"ticks\":\"\"}}}],\"scatterpolar\":[{\"type\":\"scatterpolar\",\"marker\":{\"colorbar\":{\"outlinewidth\":0,\"ticks\":\"\"}}}],\"histogram\":[{\"marker\":{\"pattern\":{\"fillmode\":\"overlay\",\"size\":10,\"solidity\":0.2}},\"type\":\"histogram\"}],\"scattergl\":[{\"type\":\"scattergl\",\"marker\":{\"colorbar\":{\"outlinewidth\":0,\"ticks\":\"\"}}}],\"scatter3d\":[{\"type\":\"scatter3d\",\"line\":{\"colorbar\":{\"outlinewidth\":0,\"ticks\":\"\"}},\"marker\":{\"colorbar\":{\"outlinewidth\":0,\"ticks\":\"\"}}}],\"scattermapbox\":[{\"type\":\"scattermapbox\",\"marker\":{\"colorbar\":{\"outlinewidth\":0,\"ticks\":\"\"}}}],\"scatterternary\":[{\"type\":\"scatterternary\",\"marker\":{\"colorbar\":{\"outlinewidth\":0,\"ticks\":\"\"}}}],\"scattercarpet\":[{\"type\":\"scattercarpet\",\"marker\":{\"colorbar\":{\"outlinewidth\":0,\"ticks\":\"\"}}}],\"carpet\":[{\"aaxis\":{\"endlinecolor\":\"#2a3f5f\",\"gridcolor\":\"white\",\"linecolor\":\"white\",\"minorgridcolor\":\"white\",\"startlinecolor\":\"#2a3f5f\"},\"baxis\":{\"endlinecolor\":\"#2a3f5f\",\"gridcolor\":\"white\",\"linecolor\":\"white\",\"minorgridcolor\":\"white\",\"startlinecolor\":\"#2a3f5f\"},\"type\":\"carpet\"}],\"table\":[{\"cells\":{\"fill\":{\"color\":\"#EBF0F8\"},\"line\":{\"color\":\"white\"}},\"header\":{\"fill\":{\"color\":\"#C8D4E3\"},\"line\":{\"color\":\"white\"}},\"type\":\"table\"}],\"barpolar\":[{\"marker\":{\"line\":{\"color\":\"#E5ECF6\",\"width\":0.5},\"pattern\":{\"fillmode\":\"overlay\",\"size\":10,\"solidity\":0.2}},\"type\":\"barpolar\"}],\"pie\":[{\"automargin\":true,\"type\":\"pie\"}]},\"layout\":{\"autotypenumbers\":\"strict\",\"colorway\":[\"#636efa\",\"#EF553B\",\"#00cc96\",\"#ab63fa\",\"#FFA15A\",\"#19d3f3\",\"#FF6692\",\"#B6E880\",\"#FF97FF\",\"#FECB52\"],\"font\":{\"color\":\"#2a3f5f\"},\"hovermode\":\"closest\",\"hoverlabel\":{\"align\":\"left\"},\"paper_bgcolor\":\"white\",\"plot_bgcolor\":\"#E5ECF6\",\"polar\":{\"bgcolor\":\"#E5ECF6\",\"angularaxis\":{\"gridcolor\":\"white\",\"linecolor\":\"white\",\"ticks\":\"\"},\"radialaxis\":{\"gridcolor\":\"white\",\"linecolor\":\"white\",\"ticks\":\"\"}},\"ternary\":{\"bgcolor\":\"#E5ECF6\",\"aaxis\":{\"gridcolor\":\"white\",\"linecolor\":\"white\",\"ticks\":\"\"},\"baxis\":{\"gridcolor\":\"white\",\"linecolor\":\"white\",\"ticks\":\"\"},\"caxis\":{\"gridcolor\":\"white\",\"linecolor\":\"white\",\"ticks\":\"\"}},\"coloraxis\":{\"colorbar\":{\"outlinewidth\":0,\"ticks\":\"\"}},\"colorscale\":{\"sequential\":[[0.0,\"#0d0887\"],[0.1111111111111111,\"#46039f\"],[0.2222222222222222,\"#7201a8\"],[0.3333333333333333,\"#9c179e\"],[0.4444444444444444,\"#bd3786\"],[0.5555555555555556,\"#d8576b\"],[0.6666666666666666,\"#ed7953\"],[0.7777777777777778,\"#fb9f3a\"],[0.8888888888888888,\"#fdca26\"],[1.0,\"#f0f921\"]],\"sequentialminus\":[[0.0,\"#0d0887\"],[0.1111111111111111,\"#46039f\"],[0.2222222222222222,\"#7201a8\"],[0.3333333333333333,\"#9c179e\"],[0.4444444444444444,\"#bd3786\"],[0.5555555555555556,\"#d8576b\"],[0.6666666666666666,\"#ed7953\"],[0.7777777777777778,\"#fb9f3a\"],[0.8888888888888888,\"#fdca26\"],[1.0,\"#f0f921\"]],\"diverging\":[[0,\"#8e0152\"],[0.1,\"#c51b7d\"],[0.2,\"#de77ae\"],[0.3,\"#f1b6da\"],[0.4,\"#fde0ef\"],[0.5,\"#f7f7f7\"],[0.6,\"#e6f5d0\"],[0.7,\"#b8e186\"],[0.8,\"#7fbc41\"],[0.9,\"#4d9221\"],[1,\"#276419\"]]},\"xaxis\":{\"gridcolor\":\"white\",\"linecolor\":\"white\",\"ticks\":\"\",\"title\":{\"standoff\":15},\"zerolinecolor\":\"white\",\"automargin\":true,\"zerolinewidth\":2},\"yaxis\":{\"gridcolor\":\"white\",\"linecolor\":\"white\",\"ticks\":\"\",\"title\":{\"standoff\":15},\"zerolinecolor\":\"white\",\"automargin\":true,\"zerolinewidth\":2},\"scene\":{\"xaxis\":{\"backgroundcolor\":\"#E5ECF6\",\"gridcolor\":\"white\",\"linecolor\":\"white\",\"showbackground\":true,\"ticks\":\"\",\"zerolinecolor\":\"white\",\"gridwidth\":2},\"yaxis\":{\"backgroundcolor\":\"#E5ECF6\",\"gridcolor\":\"white\",\"linecolor\":\"white\",\"showbackground\":true,\"ticks\":\"\",\"zerolinecolor\":\"white\",\"gridwidth\":2},\"zaxis\":{\"backgroundcolor\":\"#E5ECF6\",\"gridcolor\":\"white\",\"linecolor\":\"white\",\"showbackground\":true,\"ticks\":\"\",\"zerolinecolor\":\"white\",\"gridwidth\":2}},\"shapedefaults\":{\"line\":{\"color\":\"#2a3f5f\"}},\"annotationdefaults\":{\"arrowcolor\":\"#2a3f5f\",\"arrowhead\":0,\"arrowwidth\":1},\"geo\":{\"bgcolor\":\"white\",\"landcolor\":\"#E5ECF6\",\"subunitcolor\":\"white\",\"showland\":true,\"showlakes\":true,\"lakecolor\":\"white\"},\"title\":{\"x\":0.05},\"mapbox\":{\"style\":\"light\"}}}},                        {\"responsive\": true}                    ).then(function(){\n",
       "                            \n",
       "var gd = document.getElementById('c88c7387-0dcc-4649-a2f8-ac7b31ad5db3');\n",
       "var x = new MutationObserver(function (mutations, observer) {{\n",
       "        var display = window.getComputedStyle(gd).display;\n",
       "        if (!display || display === 'none') {{\n",
       "            console.log([gd, 'removed!']);\n",
       "            Plotly.purge(gd);\n",
       "            observer.disconnect();\n",
       "        }}\n",
       "}});\n",
       "\n",
       "// Listen for the removal of the full notebook cells\n",
       "var notebookContainer = gd.closest('#notebook-container');\n",
       "if (notebookContainer) {{\n",
       "    x.observe(notebookContainer, {childList: true});\n",
       "}}\n",
       "\n",
       "// Listen for the clearing of the current output cell\n",
       "var outputEl = gd.closest('.output');\n",
       "if (outputEl) {{\n",
       "    x.observe(outputEl, {childList: true});\n",
       "}}\n",
       "\n",
       "                        })                };                });            </script>        </div>"
      ]
     },
     "metadata": {},
     "output_type": "display_data"
    }
   ],
   "source": [
    "dfplt = df[0:100]\n",
    "# Crear una gráfica de velas japonesas con plotly\n",
    "import plotly.graph_objects as go\n",
    "\n",
    "fig = go.Figure(data=[go.Candlestick(x=dfplt.index,\n",
    "                                     open=dfplt[\"Open\"],\n",
    "                                     high=dfplt[\"High\"],\n",
    "                                     low=dfplt[\"Low\"],\n",
    "                                     close=dfplt[\"Close\"]),\n",
    "                                     go.Scatter(x=dfplt.index, y = dfplt.EMA, line=dict(color=\"red\", width=2), name =\"EMA\")])\n",
    "\n",
    "fig.show()\n"
   ]
  },
  {
   "cell_type": "code",
   "execution_count": 11,
   "id": "4ad060cc-ae5e-447c-8c96-846a6ba472f2",
   "metadata": {},
   "outputs": [],
   "source": [
    "# pandas_ta es una biblioteca de pandas que se usa para analisis tecnico, dentro de ella estan los indicadires. \n",
    "\n",
    "import pandas_ta as ta\n",
    "df[\"EMA\"] = ta.ema(df.Close, lenght =55)\n",
    "df[\"RSI_10\"] = ta.rsi(df.Close, lenght =10)"
   ]
  },
  {
   "cell_type": "code",
   "execution_count": 8,
   "id": "efedd624-5b53-459f-ad79-455102672ddf",
   "metadata": {},
   "outputs": [
    {
     "data": {
      "text/html": [
       "<div>\n",
       "<style scoped>\n",
       "    .dataframe tbody tr th:only-of-type {\n",
       "        vertical-align: middle;\n",
       "    }\n",
       "\n",
       "    .dataframe tbody tr th {\n",
       "        vertical-align: top;\n",
       "    }\n",
       "\n",
       "    .dataframe thead th {\n",
       "        text-align: right;\n",
       "    }\n",
       "</style>\n",
       "<table border=\"1\" class=\"dataframe\">\n",
       "  <thead>\n",
       "    <tr style=\"text-align: right;\">\n",
       "      <th></th>\n",
       "      <th>Datetime</th>\n",
       "      <th>Open</th>\n",
       "      <th>High</th>\n",
       "      <th>Low</th>\n",
       "      <th>Close</th>\n",
       "      <th>Volume</th>\n",
       "      <th>Dividends</th>\n",
       "      <th>Stock Splits</th>\n",
       "      <th>EMA</th>\n",
       "      <th>RSI_10</th>\n",
       "    </tr>\n",
       "  </thead>\n",
       "  <tbody>\n",
       "    <tr>\n",
       "      <th>0</th>\n",
       "      <td>2024-05-21 09:30:00-04:00</td>\n",
       "      <td>93.598999</td>\n",
       "      <td>94.322899</td>\n",
       "      <td>93.180000</td>\n",
       "      <td>94.057144</td>\n",
       "      <td>10670317</td>\n",
       "      <td>0.0</td>\n",
       "      <td>0.0</td>\n",
       "      <td>NaN</td>\n",
       "      <td>NaN</td>\n",
       "    </tr>\n",
       "    <tr>\n",
       "      <th>1</th>\n",
       "      <td>2024-05-21 10:30:00-04:00</td>\n",
       "      <td>94.078003</td>\n",
       "      <td>94.985001</td>\n",
       "      <td>94.050003</td>\n",
       "      <td>94.859001</td>\n",
       "      <td>5294755</td>\n",
       "      <td>0.0</td>\n",
       "      <td>0.0</td>\n",
       "      <td>NaN</td>\n",
       "      <td>NaN</td>\n",
       "    </tr>\n",
       "    <tr>\n",
       "      <th>2</th>\n",
       "      <td>2024-05-21 11:30:00-04:00</td>\n",
       "      <td>94.871002</td>\n",
       "      <td>95.287003</td>\n",
       "      <td>94.592010</td>\n",
       "      <td>95.157249</td>\n",
       "      <td>3443525</td>\n",
       "      <td>0.0</td>\n",
       "      <td>0.0</td>\n",
       "      <td>NaN</td>\n",
       "      <td>NaN</td>\n",
       "    </tr>\n",
       "    <tr>\n",
       "      <th>3</th>\n",
       "      <td>2024-05-21 12:30:00-04:00</td>\n",
       "      <td>95.155998</td>\n",
       "      <td>95.196754</td>\n",
       "      <td>94.568001</td>\n",
       "      <td>94.856003</td>\n",
       "      <td>2697859</td>\n",
       "      <td>0.0</td>\n",
       "      <td>0.0</td>\n",
       "      <td>NaN</td>\n",
       "      <td>NaN</td>\n",
       "    </tr>\n",
       "    <tr>\n",
       "      <th>4</th>\n",
       "      <td>2024-05-21 13:30:00-04:00</td>\n",
       "      <td>94.865005</td>\n",
       "      <td>95.049103</td>\n",
       "      <td>94.779999</td>\n",
       "      <td>94.791008</td>\n",
       "      <td>2038795</td>\n",
       "      <td>0.0</td>\n",
       "      <td>0.0</td>\n",
       "      <td>NaN</td>\n",
       "      <td>NaN</td>\n",
       "    </tr>\n",
       "    <tr>\n",
       "      <th>...</th>\n",
       "      <td>...</td>\n",
       "      <td>...</td>\n",
       "      <td>...</td>\n",
       "      <td>...</td>\n",
       "      <td>...</td>\n",
       "      <td>...</td>\n",
       "      <td>...</td>\n",
       "      <td>...</td>\n",
       "      <td>...</td>\n",
       "      <td>...</td>\n",
       "    </tr>\n",
       "    <tr>\n",
       "      <th>142</th>\n",
       "      <td>2024-06-20 11:30:00-04:00</td>\n",
       "      <td>138.985992</td>\n",
       "      <td>139.000000</td>\n",
       "      <td>134.070007</td>\n",
       "      <td>134.145004</td>\n",
       "      <td>58924575</td>\n",
       "      <td>0.0</td>\n",
       "      <td>0.0</td>\n",
       "      <td>135.419053</td>\n",
       "      <td>55.122492</td>\n",
       "    </tr>\n",
       "    <tr>\n",
       "      <th>143</th>\n",
       "      <td>2024-06-20 12:30:00-04:00</td>\n",
       "      <td>134.139999</td>\n",
       "      <td>134.570007</td>\n",
       "      <td>130.550003</td>\n",
       "      <td>131.240005</td>\n",
       "      <td>76306044</td>\n",
       "      <td>0.0</td>\n",
       "      <td>0.0</td>\n",
       "      <td>134.659226</td>\n",
       "      <td>45.973273</td>\n",
       "    </tr>\n",
       "    <tr>\n",
       "      <th>144</th>\n",
       "      <td>2024-06-20 13:30:00-04:00</td>\n",
       "      <td>131.243607</td>\n",
       "      <td>133.300003</td>\n",
       "      <td>129.529999</td>\n",
       "      <td>133.110306</td>\n",
       "      <td>63217513</td>\n",
       "      <td>0.0</td>\n",
       "      <td>0.0</td>\n",
       "      <td>134.377604</td>\n",
       "      <td>51.549075</td>\n",
       "    </tr>\n",
       "    <tr>\n",
       "      <th>145</th>\n",
       "      <td>2024-06-20 14:30:00-04:00</td>\n",
       "      <td>133.110001</td>\n",
       "      <td>133.289993</td>\n",
       "      <td>129.830002</td>\n",
       "      <td>131.298401</td>\n",
       "      <td>44957208</td>\n",
       "      <td>0.0</td>\n",
       "      <td>0.0</td>\n",
       "      <td>133.817749</td>\n",
       "      <td>46.538165</td>\n",
       "    </tr>\n",
       "    <tr>\n",
       "      <th>146</th>\n",
       "      <td>2024-06-20 15:30:00-04:00</td>\n",
       "      <td>131.299896</td>\n",
       "      <td>132.509995</td>\n",
       "      <td>130.600006</td>\n",
       "      <td>130.779999</td>\n",
       "      <td>35806912</td>\n",
       "      <td>0.0</td>\n",
       "      <td>0.0</td>\n",
       "      <td>133.265431</td>\n",
       "      <td>45.184832</td>\n",
       "    </tr>\n",
       "  </tbody>\n",
       "</table>\n",
       "<p>147 rows × 10 columns</p>\n",
       "</div>"
      ],
      "text/plain": [
       "                      Datetime        Open        High         Low  \\\n",
       "0    2024-05-21 09:30:00-04:00   93.598999   94.322899   93.180000   \n",
       "1    2024-05-21 10:30:00-04:00   94.078003   94.985001   94.050003   \n",
       "2    2024-05-21 11:30:00-04:00   94.871002   95.287003   94.592010   \n",
       "3    2024-05-21 12:30:00-04:00   95.155998   95.196754   94.568001   \n",
       "4    2024-05-21 13:30:00-04:00   94.865005   95.049103   94.779999   \n",
       "..                         ...         ...         ...         ...   \n",
       "142  2024-06-20 11:30:00-04:00  138.985992  139.000000  134.070007   \n",
       "143  2024-06-20 12:30:00-04:00  134.139999  134.570007  130.550003   \n",
       "144  2024-06-20 13:30:00-04:00  131.243607  133.300003  129.529999   \n",
       "145  2024-06-20 14:30:00-04:00  133.110001  133.289993  129.830002   \n",
       "146  2024-06-20 15:30:00-04:00  131.299896  132.509995  130.600006   \n",
       "\n",
       "          Close    Volume  Dividends  Stock Splits         EMA     RSI_10  \n",
       "0     94.057144  10670317        0.0           0.0         NaN        NaN  \n",
       "1     94.859001   5294755        0.0           0.0         NaN        NaN  \n",
       "2     95.157249   3443525        0.0           0.0         NaN        NaN  \n",
       "3     94.856003   2697859        0.0           0.0         NaN        NaN  \n",
       "4     94.791008   2038795        0.0           0.0         NaN        NaN  \n",
       "..          ...       ...        ...           ...         ...        ...  \n",
       "142  134.145004  58924575        0.0           0.0  135.419053  55.122492  \n",
       "143  131.240005  76306044        0.0           0.0  134.659226  45.973273  \n",
       "144  133.110306  63217513        0.0           0.0  134.377604  51.549075  \n",
       "145  131.298401  44957208        0.0           0.0  133.817749  46.538165  \n",
       "146  130.779999  35806912        0.0           0.0  133.265431  45.184832  \n",
       "\n",
       "[147 rows x 10 columns]"
      ]
     },
     "execution_count": 8,
     "metadata": {},
     "output_type": "execute_result"
    }
   ],
   "source": [
    "df"
   ]
  },
  {
   "cell_type": "code",
   "execution_count": null,
   "id": "c331df42-7e33-4299-a21e-82e79a48e509",
   "metadata": {},
   "outputs": [],
   "source": [
    "#df.ta.indicators()  lista de indicadores de pandas_ta\n",
    "# help(ta.rsi) ver documentacion.\n",
    "\n"
   ]
  }
 ],
 "metadata": {
  "kernelspec": {
   "display_name": "Python 3 (ipykernel)",
   "language": "python",
   "name": "python3"
  },
  "language_info": {
   "codemirror_mode": {
    "name": "ipython",
    "version": 3
   },
   "file_extension": ".py",
   "mimetype": "text/x-python",
   "name": "python",
   "nbconvert_exporter": "python",
   "pygments_lexer": "ipython3",
   "version": "3.11.7"
  }
 },
 "nbformat": 4,
 "nbformat_minor": 5
}
