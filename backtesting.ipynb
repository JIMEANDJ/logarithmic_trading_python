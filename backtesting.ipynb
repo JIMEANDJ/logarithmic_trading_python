{
 "cells": [
  {
   "cell_type": "code",
   "execution_count": null,
   "metadata": {},
   "outputs": [],
   "source": [
    "pip install yfinance"
   ]
  },
  {
   "cell_type": "code",
   "execution_count": null,
   "metadata": {},
   "outputs": [],
   "source": [
    "pip install backtesting"
   ]
  },
  {
   "cell_type": "code",
   "execution_count": null,
   "metadata": {},
   "outputs": [],
   "source": [
    "pip install pandas"
   ]
  },
  {
   "cell_type": "code",
   "execution_count": null,
   "metadata": {},
   "outputs": [],
   "source": [
    "import pandas as pd \n",
    "from backtesting import Backtest, Strategy\n",
    "from backtesting.lib import crossover\n",
    "\n",
    "\n",
    "#SMA Function\n",
    "\n",
    "def SMA(values, n):\n",
    "    return pd.Series(values).rolling(n).mean()\n",
    "\n",
    "#Strategy Class\n",
    "class SmaCross(Strategy):\n",
    "    n1 = 10\n",
    "    n2 = 20\n",
    "    \n",
    "    def init(self):\n",
    "        # Precompute two moving averages\n",
    "        self.sma1 = self.I(SMA, self.data.Close, self.n1)\n",
    "        self.sma2 = self.I(SMA, self.data.Close, self.n2)\n",
    "        \n",
    "    def next(self):\n",
    "        # If sma1 crosses above sma2, closse anu short  buy the asset\n",
    "        if crossover(self.sma1, self.sma2):\n",
    "            self.position.close()\n",
    "            self.buy()\n",
    "        # Else, if sma1 crosses below sma2, sell it\n",
    "        elif crossover(self.sma2, self.sma1):\n",
    "            self.position.close()            \n",
    "            self.sell()\n",
    "            \n",
    "            "
   ]
  },
  {
   "cell_type": "code",
   "execution_count": null,
   "metadata": {},
   "outputs": [],
   "source": [
    "import yfinance as yf\n",
    "\n",
    "data = yf.download(\"BTC-USD\")\n",
    "\n",
    "bt = Backtest(data, SmaCross, commission=.002)\n",
    "bt.run()"
   ]
  },
  {
   "cell_type": "code",
   "execution_count": null,
   "metadata": {},
   "outputs": [],
   "source": [
    "print(stats.iloc)"
   ]
  },
  {
   "cell_type": "code",
   "execution_count": null,
   "metadata": {},
   "outputs": [],
   "source": [
    "bt.plot()"
   ]
  },
  {
   "cell_type": "code",
   "execution_count": null,
   "metadata": {},
   "outputs": [],
   "source": [
    "params = {'n1': range(10, 30, 5), 'n2': range(20, 50, 5)}\n",
    "\n",
    "# Asegúrate de que bt es una instancia de Backtest y que optimize se llama correctamente\n",
    "res = bt.optimize(**params)\n",
    "\n",
    "print('Mejor resultado: ', res['Return [%]'])\n",
    "print('Parametro para mejor resultado: ', res['_strategy'])"
   ]
  }
 ],
 "metadata": {
  "language_info": {
   "name": "python"
  }
 },
 "nbformat": 4,
 "nbformat_minor": 2
}
